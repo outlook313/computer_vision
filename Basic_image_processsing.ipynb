{
 "cells": [
  {
   "cell_type": "markdown",
   "metadata": {},
   "source": [
    "Basic Image Processing Algorithms:<br>\n",
    "    \n",
    "In order for a computer to understand an image, the image has to be processed first.\n",
    "There are many algorithms that can be used to process images and the output depends on the task at hand.<br>\n",
    "Some of the most basic algorithms are:<br>\n",
    "• Thresholding<br>\n",
    "• Morphological transformations<br>\n",
    "• Blurring<br>"
   ]
  }
 ],
 "metadata": {
  "kernelspec": {
   "display_name": "Python 3",
   "language": "python",
   "name": "python3"
  },
  "language_info": {
   "codemirror_mode": {
    "name": "ipython",
    "version": 3
   },
   "file_extension": ".py",
   "mimetype": "text/x-python",
   "name": "python",
   "nbconvert_exporter": "python",
   "pygments_lexer": "ipython3",
   "version": "3.7.6"
  }
 },
 "nbformat": 4,
 "nbformat_minor": 4
}
